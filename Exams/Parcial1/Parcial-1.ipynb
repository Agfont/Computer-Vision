{
 "cells": [
  {
   "cell_type": "markdown",
   "metadata": {},
   "source": [
    "<h1><center>\n",
    "    \n",
    "Practical exam on Computer Vision\n",
    "\n",
    "First Part \n",
    " \n",
    "( January, 20th, 2022 )\n",
    "</center></h1>    \n",
    "\n",
    "----------------------------------------------------------------------------------------------------\n",
    "----------------------------------------------------------------------------------------------------\n"
   ]
  },
  {
   "cell_type": "markdown",
   "metadata": {},
   "source": [
    "This is the practical exam that corresponds to the first half of the semester material. Note that to approve the exam, both parts (theoretical and practical ones) should be approved. Each exercise is defined with the corresponding score. "
   ]
  },
  {
   "cell_type": "markdown",
   "metadata": {},
   "source": [
    "## Exercise 1"
   ]
  },
  {
   "cell_type": "markdown",
   "metadata": {},
   "source": [
    "### I am Iron Man"
   ]
  },
  {
   "cell_type": "markdown",
   "metadata": {},
   "source": [
    "The billionaire Tony Stark is, also, the well known super-hero Ironman. After an unfortunate incident, Ironman lost his helmet on the battleground. Today, we must help him to recover it. \n",
    "\n",
    "<img src=\"images_exam/stark_and_helmet.png\" width=\"600\" height=\"60\">"
   ]
  },
  {
   "cell_type": "markdown",
   "metadata": {},
   "source": [
    "**Ex.1.1** (0.5 points) Load the image `Ironman.jpg` together with the  image `helmet.jpg` from the folder `images_exam`. Show both images in one single figure using the `subplots` function and print their principal image features: type and shape."
   ]
  },
  {
   "cell_type": "code",
   "execution_count": null,
   "metadata": {},
   "outputs": [],
   "source": [
    "#your solution"
   ]
  },
  {
   "cell_type": "markdown",
   "metadata": {},
   "source": [
    "**Ex.1.2** (2.5 points) Put the helm on the head. \n",
    "\n",
    "Firstly, note differences in size between both, Ironman and helm. We need to compensate these differences by rescaling one of the images.\n",
    "\n",
    "In order to overlap the helm on the head, we need to obtain a binary mask from the helm. Note that the image background is not homogeneous and, therefore, we need to apply a threshold to separate the helm from the background. \n",
    "\n",
    "The result should look like:\n",
    "\n",
    "<img src=\"images_exam/ironmen.png\" width=\"750\" height=\"135\">\n"
   ]
  },
  {
   "cell_type": "code",
   "execution_count": 10,
   "metadata": {},
   "outputs": [],
   "source": [
    "#your solution\n"
   ]
  },
  {
   "cell_type": "markdown",
   "metadata": {},
   "source": [
    "## Exercise 2"
   ]
  },
  {
   "cell_type": "markdown",
   "metadata": {},
   "source": [
    "**Ex 2.1** (1 points) Load the image collection from `./images_exam/Funnyrubbits`, and visualize the video\n",
    "\n",
    "<img src=\"images_exam/ex1.png\" width=\"600\" height=\"180\">\n",
    "\n",
    "**hint** remember using %matplotlib nbagg"
   ]
  },
  {
   "cell_type": "code",
   "execution_count": 11,
   "metadata": {},
   "outputs": [],
   "source": [
    "#your solution\n",
    "\n"
   ]
  },
  {
   "cell_type": "markdown",
   "metadata": {},
   "source": [
    "\n",
    "**Ex 1.5** (2.5 points) Find where a shot finishes and the following starts (boundaries). Comment what heuristics you applied to detect a new shot.\n",
    "\n",
    "<img src=\"images_exam/temporal_histogram.png\" width=\"500\" height=\"140\">\n"
   ]
  },
  {
   "cell_type": "code",
   "execution_count": 13,
   "metadata": {},
   "outputs": [],
   "source": [
    "#your solution\n",
    "\n"
   ]
  },
  {
   "cell_type": "markdown",
   "metadata": {},
   "source": [
    "**Ex 1.3** (1 points) Show the initial and final images of each shot extracted (see the example bellow)\n",
    "\n",
    "<img src=\"images_exam/ex2.png\" width=\"500\" height=\"500\">"
   ]
  },
  {
   "cell_type": "markdown",
   "metadata": {},
   "source": [
    "## Exercise 3"
   ]
  },
  {
   "cell_type": "markdown",
   "metadata": {},
   "source": [
    "**Ex 3.1** (0.5 points) Read the image `./images_exam/rocki.jpeg`. Check all the image parameters (type, size, etc...). Reshape the image to $128x128$ pixels and convert to gray scale"
   ]
  },
  {
   "cell_type": "code",
   "execution_count": 14,
   "metadata": {},
   "outputs": [],
   "source": [
    "#your solution\n",
    "\n",
    "\n"
   ]
  },
  {
   "cell_type": "markdown",
   "metadata": {},
   "source": [
    "**Ex 3.2** (0.5 points) Convolve the image with a horizontal mask h1d=[1, 1, 1, 1, 1, 1, 1, 1, 1, 1]. Afterwords, transpose the mask vector and repeat the convolution **on the original (i.e no convolved) image**.\n",
    "\n",
    "Show the two results in a single figure, using subplots.\n",
    "\n",
    "Furthermore, print the type and the range of values of the convolved images.\n"
   ]
  },
  {
   "cell_type": "code",
   "execution_count": 15,
   "metadata": {},
   "outputs": [],
   "source": [
    "%matplotlib inline\n",
    "\n",
    "from scipy.ndimage import convolve\n",
    "from skimage import img_as_float\n",
    "\n",
    "#your solution\n"
   ]
  },
  {
   "cell_type": "markdown",
   "metadata": {},
   "source": [
    "**Ex 3.3** (0.5 points) Convolve the original image with a uniform two-dimensional mask of dimensions $15x15$ \n"
   ]
  },
  {
   "cell_type": "code",
   "execution_count": 17,
   "metadata": {},
   "outputs": [],
   "source": [
    "#your solution\n",
    "\n"
   ]
  },
  {
   "cell_type": "markdown",
   "metadata": {},
   "source": [
    "**Ex 3.4** (1.5 points) Finally, implement a function that applies a  convolution on the color image and visualize the  result  using the original RGB image `rocki.jpeg` with a $15x15$ uniform mask.\n"
   ]
  },
  {
   "cell_type": "code",
   "execution_count": 18,
   "metadata": {},
   "outputs": [],
   "source": [
    "#your solution"
   ]
  }
 ],
 "metadata": {
  "kernelspec": {
   "display_name": "Python 3 (ipykernel)",
   "language": "python",
   "name": "python3"
  },
  "language_info": {
   "codemirror_mode": {
    "name": "ipython",
    "version": 3
   },
   "file_extension": ".py",
   "mimetype": "text/x-python",
   "name": "python",
   "nbconvert_exporter": "python",
   "pygments_lexer": "ipython3",
   "version": "3.9.7"
  }
 },
 "nbformat": 4,
 "nbformat_minor": 4
}
